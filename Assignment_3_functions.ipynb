{
 "cells": [
  {
   "cell_type": "markdown",
   "id": "1f560f3f-af88-4a76-8e2d-bf31f29d0537",
   "metadata": {
    "tags": []
   },
   "source": [
    "##### Q1. Which keyword is used to create a function? Create a function to return a list of odd numbers in the range of 1 to 25."
   ]
  },
  {
   "cell_type": "code",
   "execution_count": 3,
   "id": "09d8ced9-be75-426f-9fea-60590cad07bd",
   "metadata": {},
   "outputs": [
    {
     "data": {
      "text/plain": [
       "[1, 3, 5, 7, 9, 11, 13, 15, 17, 19, 21, 23]"
      ]
     },
     "execution_count": 3,
     "metadata": {},
     "output_type": "execute_result"
    }
   ],
   "source": [
    "# def keyword is used to create a function.\n",
    "\n",
    "def odd_list(n):\n",
    "    l1 = []\n",
    "    for i in range(1,n):\n",
    "        if i % 2 != 0:\n",
    "            l1.append(i)\n",
    "    return l1\n",
    "\n",
    "odd_list(25)"
   ]
  },
  {
   "cell_type": "markdown",
   "id": "893d0ef1-afd6-4a22-ac46-888abf4e0f2f",
   "metadata": {
    "tags": []
   },
   "source": [
    "##### Q2. Why *args and **kwargs is used in some functions? Create a function each for *args and **kwargs to demonstrate their use."
   ]
  },
  {
   "cell_type": "code",
   "execution_count": 5,
   "id": "b0b0a348-9f6a-4eca-b5f1-d4593d7af05a",
   "metadata": {},
   "outputs": [
    {
     "name": "stdout",
     "output_type": "stream",
     "text": [
      "(1, 2, 'three')\n",
      "{'a': 1, 'b': 2}\n"
     ]
    }
   ],
   "source": [
    "# *args is used to take any number of inputs in a function. It returns a tuple.\n",
    "# **kwargs is used to take any number of inputs in a function in a key value pair. It returns a dictionary.\n",
    "\n",
    "def test(*args):\n",
    "    return args\n",
    "\n",
    "def test2(**kwargs):\n",
    "    return kwargs\n",
    "\n",
    "print(test(1,2,\"three\"))\n",
    "print(test2(a = 1, b = 2))"
   ]
  },
  {
   "cell_type": "markdown",
   "id": "49189f74-06bb-432f-a295-a0f7458623ca",
   "metadata": {},
   "source": [
    "##### Q3. What is an iterator in python? Name the method used to initialise the iterator object and the method used for iteration. Use these methods to print the first five elements of the given list [2, 4, 6, 8, 10, 12, 14, 16,18, 20]."
   ]
  },
  {
   "cell_type": "code",
   "execution_count": 10,
   "id": "a3e06d0b-7346-45a2-b6c5-3efa3a3863b7",
   "metadata": {},
   "outputs": [
    {
     "name": "stdout",
     "output_type": "stream",
     "text": [
      "2\n",
      "4\n",
      "6\n",
      "8\n",
      "10\n"
     ]
    }
   ],
   "source": [
    "# Iterator is something which allows to iterate or traverse on the items and return one item at a time on objects like lists, tuples, dicts, and sets.\n",
    "# Method used to initialize the iterator objects is iter().\n",
    "# Method used for iteration is next().\n",
    "\n",
    "list1 = [2, 4, 6, 8, 10, 12, 14, 16,18, 20]\n",
    "\n",
    "intIterator = iter(list1)\n",
    "print(next(intIterator))\n",
    "print(next(intIterator))\n",
    "print(next(intIterator))\n",
    "print(next(intIterator))\n",
    "print(next(intIterator))"
   ]
  },
  {
   "cell_type": "markdown",
   "id": "15886141-c877-4728-90b4-dc0210a2ae33",
   "metadata": {},
   "source": [
    "##### Q4. What is a generator function in python? Why yield keyword is used? Give an example of a generator function."
   ]
  },
  {
   "cell_type": "code",
   "execution_count": 13,
   "id": "e442311f-4bf7-4c3b-a712-0ae50c0f051d",
   "metadata": {},
   "outputs": [
    {
     "name": "stdout",
     "output_type": "stream",
     "text": [
      "0\n",
      "1\n",
      "2\n",
      "3\n",
      "4\n",
      "5\n",
      "6\n",
      "7\n",
      "8\n",
      "9\n"
     ]
    }
   ],
   "source": [
    "# Generator function is a funtion which generates a range of values when iterated over.\n",
    "# yield keyword is used to create generator function. For printing values of it, we have to traverse it through a loop.\n",
    "\n",
    "def gen_val(n):\n",
    "    a = 0\n",
    "    for i in range(n):\n",
    "        yield a\n",
    "        a += 1\n",
    "\n",
    "for i in gen_val(10):\n",
    "    print(i)"
   ]
  },
  {
   "cell_type": "markdown",
   "id": "4268b8a5-5d4c-48ad-989a-3502c571432b",
   "metadata": {},
   "source": [
    "##### Q5. Create a generator function for prime numbers less than 1000. Use the next() method to print the first 20 prime numbers."
   ]
  },
  {
   "cell_type": "code",
   "execution_count": 32,
   "id": "33a27653-d602-4b7b-b826-9b306a3d7e4d",
   "metadata": {},
   "outputs": [
    {
     "name": "stdout",
     "output_type": "stream",
     "text": [
      "2\n",
      "3\n",
      "5\n",
      "7\n",
      "11\n",
      "13\n",
      "17\n",
      "19\n",
      "23\n",
      "29\n",
      "31\n",
      "37\n",
      "41\n",
      "43\n",
      "47\n",
      "53\n",
      "59\n",
      "61\n",
      "67\n",
      "71\n"
     ]
    }
   ],
   "source": [
    "def gen_prime(n):\n",
    "    for i in range(2,n):\n",
    "        for j in range(2,i):\n",
    "            if i % j == 0:\n",
    "                break\n",
    "        else:\n",
    "            yield i\n",
    "                \n",
    "\n",
    "count = 1\n",
    "num = gen_prime(1000)\n",
    "while count <= 20:\n",
    "    print(next(num))\n",
    "    count += 1"
   ]
  },
  {
   "cell_type": "code",
   "execution_count": null,
   "id": "213f4f8c-7038-4210-a54a-859a666acc3c",
   "metadata": {},
   "outputs": [],
   "source": []
  }
 ],
 "metadata": {
  "kernelspec": {
   "display_name": "Python 3 (ipykernel)",
   "language": "python",
   "name": "python3"
  },
  "language_info": {
   "codemirror_mode": {
    "name": "ipython",
    "version": 3
   },
   "file_extension": ".py",
   "mimetype": "text/x-python",
   "name": "python",
   "nbconvert_exporter": "python",
   "pygments_lexer": "ipython3",
   "version": "3.10.8"
  }
 },
 "nbformat": 4,
 "nbformat_minor": 5
}
