{
 "cells": [
  {
   "cell_type": "raw",
   "id": "8b5d7ed8-353d-41d7-ba85-d93975c63b83",
   "metadata": {},
   "source": [
    "Q1. Create one variable containing following type of data:\n",
    "i) string\n",
    "ii) list\n",
    "iii) float\n",
    "iv) tuple"
   ]
  },
  {
   "cell_type": "code",
   "execution_count": 7,
   "id": "71bccad5-ab3a-4aa5-ac16-2c83555a0e56",
   "metadata": {},
   "outputs": [],
   "source": [
    "var1 = ['hello', [1,2,3,4], 2.3, ('a','b')]"
   ]
  },
  {
   "cell_type": "code",
   "execution_count": 8,
   "id": "f6fefdcb-dcee-4a93-9dc0-ddeff539b584",
   "metadata": {},
   "outputs": [
    {
     "data": {
      "text/plain": [
       "list"
      ]
     },
     "execution_count": 8,
     "metadata": {},
     "output_type": "execute_result"
    }
   ],
   "source": [
    "type(var1)"
   ]
  },
  {
   "cell_type": "code",
   "execution_count": 9,
   "id": "92a0faea-de0a-4e3a-acec-1f40f05298a1",
   "metadata": {},
   "outputs": [
    {
     "data": {
      "text/plain": [
       "str"
      ]
     },
     "execution_count": 9,
     "metadata": {},
     "output_type": "execute_result"
    }
   ],
   "source": [
    "type(var1[0])"
   ]
  },
  {
   "cell_type": "code",
   "execution_count": 10,
   "id": "cd98cc3c-0af3-4bd4-bfdf-a8d4c5a80d03",
   "metadata": {},
   "outputs": [
    {
     "data": {
      "text/plain": [
       "list"
      ]
     },
     "execution_count": 10,
     "metadata": {},
     "output_type": "execute_result"
    }
   ],
   "source": [
    "type(var1[1])"
   ]
  },
  {
   "cell_type": "code",
   "execution_count": 11,
   "id": "c405c557-d301-4624-b33f-9454e2f806d0",
   "metadata": {},
   "outputs": [
    {
     "data": {
      "text/plain": [
       "float"
      ]
     },
     "execution_count": 11,
     "metadata": {},
     "output_type": "execute_result"
    }
   ],
   "source": [
    "type(var1[2])"
   ]
  },
  {
   "cell_type": "code",
   "execution_count": 12,
   "id": "2c1893ce-8c4f-4d31-8e78-14e1bad53a87",
   "metadata": {},
   "outputs": [
    {
     "data": {
      "text/plain": [
       "tuple"
      ]
     },
     "execution_count": 12,
     "metadata": {},
     "output_type": "execute_result"
    }
   ],
   "source": [
    "type(var1[3])"
   ]
  },
  {
   "cell_type": "raw",
   "id": "481b40a8-3b2e-4704-847c-59e094a7f484",
   "metadata": {},
   "source": [
    "Q2. Given are some following variables containing data:\n",
    "(i) var1 = ‘ ‘\n",
    "(ii) var2 = ‘[ DS , ML , Python]’\n",
    "(iii) var3 = [ ‘DS’ , ’ML’ , ‘Python’ ]\n",
    "(iv) var4 = 1.\n",
    "What will be the data type of the above given variable."
   ]
  },
  {
   "cell_type": "code",
   "execution_count": 16,
   "id": "e60d413f-7ea5-41b8-bc9e-1b7f2aa1abe0",
   "metadata": {},
   "outputs": [],
   "source": [
    "var1 = ' '\n",
    "var2 = '[ DS , ML , Python]'\n",
    "var3 = [ 'DS' , 'ML' , 'Python' ]\n",
    "var4 = 1."
   ]
  },
  {
   "cell_type": "code",
   "execution_count": 22,
   "id": "564d35a1-8fef-460b-a48d-57fc75f1cdd5",
   "metadata": {},
   "outputs": [
    {
     "name": "stdout",
     "output_type": "stream",
     "text": [
      "var1 type = <class 'str'>\n",
      "var2 type = <class 'str'>\n",
      "var3 type = <class 'list'>\n",
      "var4 type = <class 'float'>\n"
     ]
    }
   ],
   "source": [
    "print('var1 type =',type(var1))\n",
    "print('var2 type =',type(var2))\n",
    "print('var3 type =',type(var3))\n",
    "print('var4 type =',type(var4))"
   ]
  },
  {
   "cell_type": "raw",
   "id": "6463314e-0a73-447d-868b-b9b7b32cddb7",
   "metadata": {},
   "source": [
    "Q3. Explain the use of the following operators using an example:\n",
    "(i) /\n",
    "(ii) %\n",
    "(iii) //\n",
    "(iv) **"
   ]
  },
  {
   "cell_type": "code",
   "execution_count": 24,
   "id": "a7b71159-0df3-484b-9c4f-1232eeacff85",
   "metadata": {},
   "outputs": [],
   "source": [
    "a = 5\n",
    "b = 2"
   ]
  },
  {
   "cell_type": "code",
   "execution_count": 25,
   "id": "e9004084-c419-4bdb-9eb8-d88e73f9a833",
   "metadata": {},
   "outputs": [
    {
     "data": {
      "text/plain": [
       "2.5"
      ]
     },
     "execution_count": 25,
     "metadata": {},
     "output_type": "execute_result"
    }
   ],
   "source": [
    "# / is used for arithmetic division - gives quotient\n",
    "a/b"
   ]
  },
  {
   "cell_type": "code",
   "execution_count": 26,
   "id": "f09639b2-5464-4312-b996-80e26e8d1b99",
   "metadata": {},
   "outputs": [
    {
     "data": {
      "text/plain": [
       "1"
      ]
     },
     "execution_count": 26,
     "metadata": {},
     "output_type": "execute_result"
    }
   ],
   "source": [
    "# % is used for modulo division - gives reminder\n",
    "a%b"
   ]
  },
  {
   "cell_type": "code",
   "execution_count": 27,
   "id": "5c97a1d8-d51f-4df1-8a5d-f3bdc1bb3847",
   "metadata": {},
   "outputs": [
    {
     "data": {
      "text/plain": [
       "2"
      ]
     },
     "execution_count": 27,
     "metadata": {},
     "output_type": "execute_result"
    }
   ],
   "source": [
    "# // is used for floor division - returns integer division\n",
    "a//b"
   ]
  },
  {
   "cell_type": "code",
   "execution_count": 28,
   "id": "1000b08d-9b9c-492c-9014-5ee9ea4ce865",
   "metadata": {},
   "outputs": [
    {
     "data": {
      "text/plain": [
       "25"
      ]
     },
     "execution_count": 28,
     "metadata": {},
     "output_type": "execute_result"
    }
   ],
   "source": [
    "# ** is used for power operation\n",
    "a**b"
   ]
  },
  {
   "cell_type": "raw",
   "id": "212076f4-cb60-4a3d-9cb9-efd00c25b499",
   "metadata": {},
   "source": [
    "Q4. Create a list of length 10 of your choice containing multiple types of data. Using for loop print the element and its data type."
   ]
  },
  {
   "cell_type": "code",
   "execution_count": 29,
   "id": "6ed135ac-2b8c-4bde-bec5-5e667166d87f",
   "metadata": {},
   "outputs": [],
   "source": [
    "l1 = ['hello', 25, 26, 10.24, 'a', True, '45.85', 45.85, 'OK', 50]"
   ]
  },
  {
   "cell_type": "code",
   "execution_count": 30,
   "id": "a57b3b2a-afbf-4760-b717-69c625b8e905",
   "metadata": {},
   "outputs": [
    {
     "name": "stdout",
     "output_type": "stream",
     "text": [
      "hello\n",
      "25\n",
      "26\n",
      "10.24\n",
      "a\n",
      "True\n",
      "45.85\n",
      "45.85\n",
      "OK\n",
      "50\n"
     ]
    }
   ],
   "source": [
    "for i in l1:\n",
    "    print(i,end='\\n')"
   ]
  },
  {
   "cell_type": "raw",
   "id": "7baab0b2-ccdf-4609-86ae-a94a22db9b82",
   "metadata": {},
   "source": [
    "Q5. Using a while loop, verify if the number A is purely divisible by number B and if so then how many times it can be divisible."
   ]
  },
  {
   "cell_type": "code",
   "execution_count": 37,
   "id": "1945d1a5-e093-4df9-b592-17b5c3e53b00",
   "metadata": {},
   "outputs": [],
   "source": [
    "a = 88\n",
    "b = 2"
   ]
  },
  {
   "cell_type": "code",
   "execution_count": 38,
   "id": "99512cc4-f147-4d16-982e-368a4f65f708",
   "metadata": {},
   "outputs": [
    {
     "name": "stdout",
     "output_type": "stream",
     "text": [
      "88 is divisible by 2 = 3 times.\n"
     ]
    }
   ],
   "source": [
    "count = 0\n",
    "while a % b == 0 :\n",
    "    count += 1\n",
    "    a //= b\n",
    "print(f'88 is divisible by 2 = {count} times.')"
   ]
  },
  {
   "cell_type": "raw",
   "id": "7b59462c-53bc-432a-950a-6e75c68620a3",
   "metadata": {},
   "source": [
    "Q6. Create a list containing 25 int type data. Using for loop and if-else condition print if the element is divisible by 3 or not."
   ]
  },
  {
   "cell_type": "code",
   "execution_count": 40,
   "id": "ca552701-d6a0-4d7f-ae13-8fe44bce39d8",
   "metadata": {},
   "outputs": [
    {
     "name": "stdout",
     "output_type": "stream",
     "text": [
      "[1, 2, 3, 4, 5, 6, 7, 8, 9, 10, 11, 12, 13, 14, 15, 16, 17, 18, 19, 20, 21, 22, 23, 24, 25]\n"
     ]
    }
   ],
   "source": [
    "l1 = range(1,26)\n",
    "print(list(l1))"
   ]
  },
  {
   "cell_type": "code",
   "execution_count": 41,
   "id": "697be5a6-eb08-4407-a778-d44a77c8c400",
   "metadata": {},
   "outputs": [
    {
     "name": "stdout",
     "output_type": "stream",
     "text": [
      "1 is not divisible by 3\n",
      "2 is not divisible by 3\n",
      "3 is divisible by 3\n",
      "4 is not divisible by 3\n",
      "5 is not divisible by 3\n",
      "6 is divisible by 3\n",
      "7 is not divisible by 3\n",
      "8 is not divisible by 3\n",
      "9 is divisible by 3\n",
      "10 is not divisible by 3\n",
      "11 is not divisible by 3\n",
      "12 is divisible by 3\n",
      "13 is not divisible by 3\n",
      "14 is not divisible by 3\n",
      "15 is divisible by 3\n",
      "16 is not divisible by 3\n",
      "17 is not divisible by 3\n",
      "18 is divisible by 3\n",
      "19 is not divisible by 3\n",
      "20 is not divisible by 3\n",
      "21 is divisible by 3\n",
      "22 is not divisible by 3\n",
      "23 is not divisible by 3\n",
      "24 is divisible by 3\n",
      "25 is not divisible by 3\n"
     ]
    }
   ],
   "source": [
    "for i in list(l1):\n",
    "    if i % 3 == 0:\n",
    "        print(f'{i} is divisible by 3')\n",
    "    else:\n",
    "        print(f'{i} is not divisible by 3')"
   ]
  },
  {
   "cell_type": "raw",
   "id": "620ddd12-a332-477c-a682-d58e8383d3c7",
   "metadata": {},
   "source": [
    "Q7. What do you understand about mutable and immutable data types? Give examples for both showing\n",
    "this property."
   ]
  },
  {
   "cell_type": "code",
   "execution_count": 42,
   "id": "58c792b7-7ecf-4f9e-b02b-dbf8b3e37b90",
   "metadata": {},
   "outputs": [
    {
     "name": "stdout",
     "output_type": "stream",
     "text": [
      "[11, 22, 33, 44, 55]\n",
      "Original Value of l1[1] =  22\n",
      "\n",
      "[11, '00', 33, 44, 55]\n",
      "New value of l1[1] =  00\n"
     ]
    }
   ],
   "source": [
    "# Mutable data type - Variable whose value can be changed\n",
    "l1 = [11,22,33,44,55]\n",
    "print(l1)\n",
    "print('Original Value of l1[1] = ',l1[1])\n",
    "print()\n",
    "l1[1] = '00'\n",
    "print(l1)\n",
    "print('New value of l1[1] = ',l1[1])"
   ]
  },
  {
   "cell_type": "markdown",
   "id": "cf620950-c07a-49e0-aa45-b0a127e90613",
   "metadata": {},
   "source": [
    "List is a mutable object. We can change the values of a mutable object."
   ]
  },
  {
   "cell_type": "code",
   "execution_count": 43,
   "id": "086a33d3-67eb-4150-b107-a606b00ba5f3",
   "metadata": {},
   "outputs": [
    {
     "name": "stdout",
     "output_type": "stream",
     "text": [
      "Hello World!\n",
      "W\n"
     ]
    },
    {
     "ename": "TypeError",
     "evalue": "'str' object does not support item assignment",
     "output_type": "error",
     "traceback": [
      "\u001b[0;31m---------------------------------------------------------------------------\u001b[0m",
      "\u001b[0;31mTypeError\u001b[0m                                 Traceback (most recent call last)",
      "Cell \u001b[0;32mIn[43], line 6\u001b[0m\n\u001b[1;32m      3\u001b[0m \u001b[38;5;28mprint\u001b[39m(str1)\n\u001b[1;32m      4\u001b[0m \u001b[38;5;28mprint\u001b[39m(str1[\u001b[38;5;241m6\u001b[39m])\n\u001b[0;32m----> 6\u001b[0m \u001b[43mstr1\u001b[49m\u001b[43m[\u001b[49m\u001b[38;5;241;43m6\u001b[39;49m\u001b[43m]\u001b[49m \u001b[38;5;241m=\u001b[39m \u001b[38;5;124m'\u001b[39m\u001b[38;5;124mw\u001b[39m\u001b[38;5;124m'\u001b[39m\n\u001b[1;32m      7\u001b[0m \u001b[38;5;28mprint\u001b[39m(str1)\n",
      "\u001b[0;31mTypeError\u001b[0m: 'str' object does not support item assignment"
     ]
    }
   ],
   "source": [
    "# Immutable data type - Variable whose value cannot be changed\n",
    "str1 = 'Hello World!'\n",
    "print(str1)\n",
    "print(str1[6])\n",
    "\n",
    "str1[6] = 'w'\n",
    "print(str1)"
   ]
  },
  {
   "cell_type": "markdown",
   "id": "8ee2701b-060b-40c0-bd97-a4cd67225742",
   "metadata": {},
   "source": [
    "Here, string is an immutable object. Hence, its value cannot be changed."
   ]
  },
  {
   "cell_type": "code",
   "execution_count": null,
   "id": "ba4bbf28-9aea-4211-ac7b-7884f55dcac2",
   "metadata": {},
   "outputs": [],
   "source": []
  }
 ],
 "metadata": {
  "kernelspec": {
   "display_name": "Python 3 (ipykernel)",
   "language": "python",
   "name": "python3"
  },
  "language_info": {
   "codemirror_mode": {
    "name": "ipython",
    "version": 3
   },
   "file_extension": ".py",
   "mimetype": "text/x-python",
   "name": "python",
   "nbconvert_exporter": "python",
   "pygments_lexer": "ipython3",
   "version": "3.10.8"
  }
 },
 "nbformat": 4,
 "nbformat_minor": 5
}
