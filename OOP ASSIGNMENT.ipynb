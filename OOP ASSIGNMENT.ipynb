{
 "cells": [
  {
   "cell_type": "markdown",
   "id": "368a85f0",
   "metadata": {},
   "source": [
    "# Q1. Explain Class and Object with respect to Object-Oriented Programming. Give a suitable example."
   ]
  },
  {
   "cell_type": "code",
   "execution_count": 1,
   "id": "ce74adb1",
   "metadata": {},
   "outputs": [],
   "source": [
    "# Class = It is a blueprint of the real world entity. eg: Car\n",
    "# Object = Instance of a class. eg: Toyota\n",
    "\n",
    "class car:\n",
    "    \n",
    "    def __init__(self, name):\n",
    "        self.name = name\n",
    "        \n",
    "    def display(self):\n",
    "        return self.name"
   ]
  },
  {
   "cell_type": "code",
   "execution_count": 2,
   "id": "33d79138",
   "metadata": {},
   "outputs": [],
   "source": [
    "c1 = car(\"Toyota\")"
   ]
  },
  {
   "cell_type": "code",
   "execution_count": 4,
   "id": "36120a79",
   "metadata": {},
   "outputs": [
    {
     "data": {
      "text/plain": [
       "'Toyota'"
      ]
     },
     "execution_count": 4,
     "metadata": {},
     "output_type": "execute_result"
    }
   ],
   "source": [
    "c1.display()"
   ]
  },
  {
   "cell_type": "markdown",
   "id": "fb45cadd",
   "metadata": {},
   "source": [
    "# Q2. Name the four pillars of OOPs."
   ]
  },
  {
   "cell_type": "code",
   "execution_count": 7,
   "id": "34893f41",
   "metadata": {},
   "outputs": [],
   "source": [
    "# Four Pillars of OOP are:\n",
    "# * Inheritance\n",
    "# * Polymorphism\n",
    "# * Abstraction\n",
    "# * Encapsulation"
   ]
  },
  {
   "cell_type": "markdown",
   "id": "0c274ba7",
   "metadata": {},
   "source": [
    "# Q3. Explain why the __init__() function is used. Give a suitable example."
   ]
  },
  {
   "cell_type": "code",
   "execution_count": 12,
   "id": "300b89e5",
   "metadata": {},
   "outputs": [],
   "source": [
    "# __init__() function is used to pass the value of the object to a class.\n",
    "# It acts as a constructor.\n",
    "\n",
    "class car:\n",
    "    \n",
    "    def __init__(self, model):\n",
    "        self.model=model\n",
    "        \n",
    "    def display(self):\n",
    "        return self.model"
   ]
  },
  {
   "cell_type": "code",
   "execution_count": 13,
   "id": "889db6c5",
   "metadata": {},
   "outputs": [],
   "source": [
    "c1 = car(\"4500B\")"
   ]
  },
  {
   "cell_type": "code",
   "execution_count": 14,
   "id": "612222ca",
   "metadata": {},
   "outputs": [
    {
     "data": {
      "text/plain": [
       "'4500B'"
      ]
     },
     "execution_count": 14,
     "metadata": {},
     "output_type": "execute_result"
    }
   ],
   "source": [
    "c1.display()"
   ]
  },
  {
   "cell_type": "markdown",
   "id": "f45377c0",
   "metadata": {},
   "source": [
    "* As we create a object 'c1' for the class 'car', we are assigning value of the object to that class during object creation. \n",
    "* It is possible with the help of init function that we can take the value of the object and pass it to class."
   ]
  },
  {
   "cell_type": "markdown",
   "id": "2e500c23",
   "metadata": {},
   "source": [
    "# Q4. Why self is used in OOPs?"
   ]
  },
  {
   "cell_type": "markdown",
   "id": "7cdc8616",
   "metadata": {},
   "source": [
    "* self is used to pass the reference of the object to the class.\n",
    "* It acts as a reference poiner.\n",
    "* Represents object as the instance of class.\n",
    "* self is not a keyword, any other word can be used instead of self."
   ]
  },
  {
   "cell_type": "markdown",
   "id": "9e040f66",
   "metadata": {},
   "source": [
    "# Q5. What is inheritance? Give an example for each type of inheritance."
   ]
  },
  {
   "cell_type": "code",
   "execution_count": 15,
   "id": "a6c12652",
   "metadata": {},
   "outputs": [],
   "source": [
    "# Inheritance = It is a concept wherein classes can inherit properties \n",
    "# and functions of other classes.\n",
    "\n",
    "# Types of Inheritance:\n",
    "\n",
    "# 1. Multi-level Inheritance\n",
    "# Class C inheriting properties of Class B which inherits Class A properties.\n",
    "\n",
    "class A:\n",
    "    def dispA(self):\n",
    "        return \"A\"\n",
    "    \n",
    "class B(A):\n",
    "    def dispB(self):\n",
    "        return \"B\"\n",
    "    \n",
    "class C(B):\n",
    "    def dispC(self):\n",
    "        return \"C\""
   ]
  },
  {
   "cell_type": "code",
   "execution_count": 21,
   "id": "7bc82549",
   "metadata": {},
   "outputs": [],
   "source": [
    "c = C()"
   ]
  },
  {
   "cell_type": "code",
   "execution_count": 22,
   "id": "5cee1d77",
   "metadata": {},
   "outputs": [
    {
     "data": {
      "text/plain": [
       "'A'"
      ]
     },
     "execution_count": 22,
     "metadata": {},
     "output_type": "execute_result"
    }
   ],
   "source": [
    "c.dispA()"
   ]
  },
  {
   "cell_type": "code",
   "execution_count": 23,
   "id": "f05f5a00",
   "metadata": {},
   "outputs": [
    {
     "data": {
      "text/plain": [
       "'B'"
      ]
     },
     "execution_count": 23,
     "metadata": {},
     "output_type": "execute_result"
    }
   ],
   "source": [
    "c.dispB()"
   ]
  },
  {
   "cell_type": "code",
   "execution_count": 24,
   "id": "66d24269",
   "metadata": {},
   "outputs": [
    {
     "data": {
      "text/plain": [
       "'C'"
      ]
     },
     "execution_count": 24,
     "metadata": {},
     "output_type": "execute_result"
    }
   ],
   "source": [
    "c.dispC()"
   ]
  },
  {
   "cell_type": "code",
   "execution_count": 26,
   "id": "6460e0ec",
   "metadata": {},
   "outputs": [],
   "source": [
    "# 2. Multiple Inheritance\n",
    "# Wherein class C inherits Class A and B both.\n",
    "\n",
    "class A:\n",
    "    def dispA(self):\n",
    "        return \"A\"\n",
    "    \n",
    "class B:\n",
    "    def dispB(self):\n",
    "        return \"B\"\n",
    "    \n",
    "class C(A,B):\n",
    "    def dispC(self):\n",
    "        return \"C\""
   ]
  },
  {
   "cell_type": "code",
   "execution_count": 27,
   "id": "3e6e4b97",
   "metadata": {},
   "outputs": [],
   "source": [
    "c = C()"
   ]
  },
  {
   "cell_type": "code",
   "execution_count": 28,
   "id": "3ff26647",
   "metadata": {},
   "outputs": [
    {
     "data": {
      "text/plain": [
       "'A'"
      ]
     },
     "execution_count": 28,
     "metadata": {},
     "output_type": "execute_result"
    }
   ],
   "source": [
    "c.dispA()"
   ]
  },
  {
   "cell_type": "code",
   "execution_count": 29,
   "id": "c29afbb2",
   "metadata": {},
   "outputs": [
    {
     "data": {
      "text/plain": [
       "'B'"
      ]
     },
     "execution_count": 29,
     "metadata": {},
     "output_type": "execute_result"
    }
   ],
   "source": [
    "c.dispB()"
   ]
  },
  {
   "cell_type": "code",
   "execution_count": 30,
   "id": "8699171d",
   "metadata": {},
   "outputs": [
    {
     "data": {
      "text/plain": [
       "'C'"
      ]
     },
     "execution_count": 30,
     "metadata": {},
     "output_type": "execute_result"
    }
   ],
   "source": [
    "c.dispC()"
   ]
  },
  {
   "cell_type": "code",
   "execution_count": null,
   "id": "cf8d6d25",
   "metadata": {},
   "outputs": [],
   "source": []
  }
 ],
 "metadata": {
  "kernelspec": {
   "display_name": "Python 3 (ipykernel)",
   "language": "python",
   "name": "python3"
  },
  "language_info": {
   "codemirror_mode": {
    "name": "ipython",
    "version": 3
   },
   "file_extension": ".py",
   "mimetype": "text/x-python",
   "name": "python",
   "nbconvert_exporter": "python",
   "pygments_lexer": "ipython3",
   "version": "3.11.5"
  }
 },
 "nbformat": 4,
 "nbformat_minor": 5
}
