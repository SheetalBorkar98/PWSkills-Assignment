{
 "cells": [
  {
   "cell_type": "markdown",
   "id": "9d7456b4",
   "metadata": {},
   "source": [
    "#### Q1. Create a vehicle class with an init method having instance variables as name_of_vehicle, max_speed and average_of_vehicle."
   ]
  },
  {
   "cell_type": "code",
   "execution_count": 1,
   "id": "a3aee3e8",
   "metadata": {},
   "outputs": [],
   "source": [
    "class Vehicle:\n",
    "    \n",
    "    def __init__(self, name_of_vehicle, max_speed, average_of_vehicle):\n",
    "        self.name_of_vehicle = name_of_vehicle\n",
    "        self.max_speed = max_speed\n",
    "        self.average_of_vehicle = average_of_vehicle\n",
    "        \n",
    "    def disp(self):\n",
    "        return self.name_of_vehicle, self.max_speed, self.average_of_vehicle"
   ]
  },
  {
   "cell_type": "code",
   "execution_count": 2,
   "id": "3678c1a1",
   "metadata": {},
   "outputs": [],
   "source": [
    "v1 = Vehicle(\"Car\", 500, 80)"
   ]
  },
  {
   "cell_type": "code",
   "execution_count": 3,
   "id": "f654a5d7",
   "metadata": {},
   "outputs": [
    {
     "data": {
      "text/plain": [
       "('Car', 500, 80)"
      ]
     },
     "execution_count": 3,
     "metadata": {},
     "output_type": "execute_result"
    }
   ],
   "source": [
    "v1.disp()"
   ]
  },
  {
   "cell_type": "markdown",
   "id": "dfb3692c",
   "metadata": {},
   "source": [
    "#### Q2. Create a child class car from the vehicle class created in Que 1, which will inherit the vehicle class. Create a method named seating_capacity which takes capacity as an argument and returns the name of the vehicle and its seating capacity."
   ]
  },
  {
   "cell_type": "code",
   "execution_count": 10,
   "id": "aceeb004",
   "metadata": {},
   "outputs": [],
   "source": [
    "class Vehicle:\n",
    "    \n",
    "    def __init__(self, name_of_vehicle, max_speed, average_of_vehicle):\n",
    "        self.name_of_vehicle = name_of_vehicle\n",
    "        self.max_speed = max_speed\n",
    "        self.average_of_vehicle = average_of_vehicle\n",
    "        \n",
    "    def disp(self):\n",
    "        return self.name_of_vehicle, self.max_speed, self.average_of_vehicle\n",
    "    \n",
    "\n",
    "class Car(Vehicle):\n",
    "    \n",
    "    def __init__(self, name_of_vehicle, max_speed, average_of_vehicle):\n",
    "        super().__init__(name_of_vehicle, max_speed, average_of_vehicle)\n",
    "    \n",
    "    def seating_capacity(self, capacity):\n",
    "        return self.name_of_vehicle,capacity"
   ]
  },
  {
   "cell_type": "code",
   "execution_count": 11,
   "id": "ef6a7f06",
   "metadata": {},
   "outputs": [],
   "source": [
    "c1 = Car(\"Skoda\", 200, 100)"
   ]
  },
  {
   "cell_type": "code",
   "execution_count": 12,
   "id": "faa9fb5b",
   "metadata": {},
   "outputs": [
    {
     "data": {
      "text/plain": [
       "('Skoda', 200, 100)"
      ]
     },
     "execution_count": 12,
     "metadata": {},
     "output_type": "execute_result"
    }
   ],
   "source": [
    "c1.disp()"
   ]
  },
  {
   "cell_type": "code",
   "execution_count": 13,
   "id": "e276f0fc",
   "metadata": {},
   "outputs": [
    {
     "data": {
      "text/plain": [
       "('Skoda', 4)"
      ]
     },
     "execution_count": 13,
     "metadata": {},
     "output_type": "execute_result"
    }
   ],
   "source": [
    "c1.seating_capacity(4)"
   ]
  },
  {
   "cell_type": "markdown",
   "id": "4251ebb9",
   "metadata": {},
   "source": [
    "#### Q3. What is multiple inheritance? Write a python code to demonstrate multiple inheritance."
   ]
  },
  {
   "cell_type": "code",
   "execution_count": 14,
   "id": "2274111e",
   "metadata": {},
   "outputs": [],
   "source": [
    "# Multiple Inheritance = A feature in which a class can inherit attributes\n",
    "# and methods from more than one class.\n",
    "# Class C inherits from Class A and Class B\n",
    "\n",
    "class A:\n",
    "    def dispA(self):\n",
    "        return \"A\"\n",
    "    \n",
    "class B:\n",
    "    def dispB(self):\n",
    "        return \"B\"\n",
    "    \n",
    "class C(A,B):\n",
    "    def dispC(self):\n",
    "        return \"C\""
   ]
  },
  {
   "cell_type": "code",
   "execution_count": 15,
   "id": "b8a14f03",
   "metadata": {},
   "outputs": [],
   "source": [
    "c = C()"
   ]
  },
  {
   "cell_type": "code",
   "execution_count": 16,
   "id": "656ee4da",
   "metadata": {},
   "outputs": [
    {
     "data": {
      "text/plain": [
       "'A'"
      ]
     },
     "execution_count": 16,
     "metadata": {},
     "output_type": "execute_result"
    }
   ],
   "source": [
    "c.dispA()"
   ]
  },
  {
   "cell_type": "code",
   "execution_count": 17,
   "id": "cdfa8f36",
   "metadata": {},
   "outputs": [
    {
     "data": {
      "text/plain": [
       "'B'"
      ]
     },
     "execution_count": 17,
     "metadata": {},
     "output_type": "execute_result"
    }
   ],
   "source": [
    "c.dispB()"
   ]
  },
  {
   "cell_type": "code",
   "execution_count": 18,
   "id": "ab176a1d",
   "metadata": {},
   "outputs": [
    {
     "data": {
      "text/plain": [
       "'C'"
      ]
     },
     "execution_count": 18,
     "metadata": {},
     "output_type": "execute_result"
    }
   ],
   "source": [
    "c.dispC()"
   ]
  },
  {
   "cell_type": "markdown",
   "id": "b53e4fc4",
   "metadata": {},
   "source": [
    "#### Q4. What are getter and setter in python? Create a class and create a getter and a setter method in this class."
   ]
  },
  {
   "cell_type": "code",
   "execution_count": 31,
   "id": "afc1cffc",
   "metadata": {},
   "outputs": [],
   "source": [
    "# getter and setter methods are used to access and modify the private variables or \n",
    "# attributes of a class.\n",
    "\n",
    "class Car:\n",
    "    \n",
    "    def __init__(self, name, model):\n",
    "        self.name = name\n",
    "        self.__model = model\n",
    "     \n",
    "    # Getter method\n",
    "    def disp_model(self):\n",
    "        return self.__model\n",
    "    \n",
    "    # setter method\n",
    "    def set_model(self, model):\n",
    "        self.__model = model"
   ]
  },
  {
   "cell_type": "code",
   "execution_count": 32,
   "id": "7511101f",
   "metadata": {},
   "outputs": [],
   "source": [
    "c1 = Car(\"Skoda\", \"4500B\")"
   ]
  },
  {
   "cell_type": "code",
   "execution_count": 33,
   "id": "a0458fd6",
   "metadata": {},
   "outputs": [
    {
     "data": {
      "text/plain": [
       "'Skoda'"
      ]
     },
     "execution_count": 33,
     "metadata": {},
     "output_type": "execute_result"
    }
   ],
   "source": [
    "c1.name"
   ]
  },
  {
   "cell_type": "code",
   "execution_count": 34,
   "id": "bf37b35e",
   "metadata": {},
   "outputs": [
    {
     "ename": "AttributeError",
     "evalue": "'Car' object has no attribute 'model'",
     "output_type": "error",
     "traceback": [
      "\u001b[1;31m---------------------------------------------------------------------------\u001b[0m",
      "\u001b[1;31mAttributeError\u001b[0m                            Traceback (most recent call last)",
      "Cell \u001b[1;32mIn[34], line 1\u001b[0m\n\u001b[1;32m----> 1\u001b[0m c1\u001b[38;5;241m.\u001b[39mmodel\n",
      "\u001b[1;31mAttributeError\u001b[0m: 'Car' object has no attribute 'model'"
     ]
    }
   ],
   "source": [
    "c1.model"
   ]
  },
  {
   "cell_type": "code",
   "execution_count": 35,
   "id": "1bfbecf9",
   "metadata": {},
   "outputs": [
    {
     "ename": "AttributeError",
     "evalue": "'Car' object has no attribute '__model'",
     "output_type": "error",
     "traceback": [
      "\u001b[1;31m---------------------------------------------------------------------------\u001b[0m",
      "\u001b[1;31mAttributeError\u001b[0m                            Traceback (most recent call last)",
      "Cell \u001b[1;32mIn[35], line 1\u001b[0m\n\u001b[1;32m----> 1\u001b[0m c1\u001b[38;5;241m.\u001b[39m__model\n",
      "\u001b[1;31mAttributeError\u001b[0m: 'Car' object has no attribute '__model'"
     ]
    }
   ],
   "source": [
    "c1.__model"
   ]
  },
  {
   "cell_type": "code",
   "execution_count": 36,
   "id": "ba82de5d",
   "metadata": {},
   "outputs": [
    {
     "data": {
      "text/plain": [
       "'4500B'"
      ]
     },
     "execution_count": 36,
     "metadata": {},
     "output_type": "execute_result"
    }
   ],
   "source": [
    "c1._Car__model"
   ]
  },
  {
   "cell_type": "code",
   "execution_count": 37,
   "id": "1082f5f8",
   "metadata": {},
   "outputs": [
    {
     "data": {
      "text/plain": [
       "'4500B'"
      ]
     },
     "execution_count": 37,
     "metadata": {},
     "output_type": "execute_result"
    }
   ],
   "source": [
    "c1.disp_model()"
   ]
  },
  {
   "cell_type": "code",
   "execution_count": 38,
   "id": "0a04a54a",
   "metadata": {},
   "outputs": [],
   "source": [
    "c1.set_model(\"54001C\")"
   ]
  },
  {
   "cell_type": "code",
   "execution_count": 39,
   "id": "5db97233",
   "metadata": {},
   "outputs": [
    {
     "data": {
      "text/plain": [
       "'54001C'"
      ]
     },
     "execution_count": 39,
     "metadata": {},
     "output_type": "execute_result"
    }
   ],
   "source": [
    "c1.disp_model()"
   ]
  },
  {
   "cell_type": "markdown",
   "id": "d62787d0",
   "metadata": {},
   "source": [
    "#### Q5.What is method overriding in python? Write a python code to demonstrate method overriding."
   ]
  },
  {
   "cell_type": "code",
   "execution_count": 40,
   "id": "4ede57a3",
   "metadata": {},
   "outputs": [],
   "source": [
    "# Method Overriding = A concept wherein a method of a subclass which has the \n",
    "# same name and parameters as a method in superclass, it can override the method\n",
    "# in the superclass.\n",
    "\n",
    "class Animal:\n",
    "    def sound(self):\n",
    "        print(\"Various sound\")\n",
    "\n",
    "class Lion(Animal):\n",
    "    def make_sound(self):\n",
    "        print(\"Roar\")\n",
    "\n",
    "class Cow(Animal):\n",
    "    def make_sound(self):\n",
    "        print(\"Moo\")"
   ]
  },
  {
   "cell_type": "code",
   "execution_count": 41,
   "id": "b5c2316f",
   "metadata": {},
   "outputs": [],
   "source": [
    "l1 = Lion()"
   ]
  },
  {
   "cell_type": "code",
   "execution_count": 42,
   "id": "4ada9748",
   "metadata": {},
   "outputs": [
    {
     "name": "stdout",
     "output_type": "stream",
     "text": [
      "Roar\n"
     ]
    }
   ],
   "source": [
    "l1.make_sound()"
   ]
  },
  {
   "cell_type": "code",
   "execution_count": 44,
   "id": "f3e416e8",
   "metadata": {},
   "outputs": [
    {
     "name": "stdout",
     "output_type": "stream",
     "text": [
      "Various sound\n"
     ]
    }
   ],
   "source": [
    "l1.sound()"
   ]
  },
  {
   "cell_type": "code",
   "execution_count": 45,
   "id": "513afe75",
   "metadata": {},
   "outputs": [],
   "source": [
    "c1 = Cow()"
   ]
  },
  {
   "cell_type": "code",
   "execution_count": 46,
   "id": "17cee088",
   "metadata": {},
   "outputs": [
    {
     "name": "stdout",
     "output_type": "stream",
     "text": [
      "Moo\n"
     ]
    }
   ],
   "source": [
    "c1.make_sound()"
   ]
  },
  {
   "cell_type": "code",
   "execution_count": 47,
   "id": "90302ba0",
   "metadata": {},
   "outputs": [
    {
     "name": "stdout",
     "output_type": "stream",
     "text": [
      "Various sound\n"
     ]
    }
   ],
   "source": [
    "c1.sound()"
   ]
  },
  {
   "cell_type": "code",
   "execution_count": null,
   "id": "964384dd",
   "metadata": {},
   "outputs": [],
   "source": []
  }
 ],
 "metadata": {
  "kernelspec": {
   "display_name": "Python 3 (ipykernel)",
   "language": "python",
   "name": "python3"
  },
  "language_info": {
   "codemirror_mode": {
    "name": "ipython",
    "version": 3
   },
   "file_extension": ".py",
   "mimetype": "text/x-python",
   "name": "python",
   "nbconvert_exporter": "python",
   "pygments_lexer": "ipython3",
   "version": "3.11.5"
  }
 },
 "nbformat": 4,
 "nbformat_minor": 5
}
