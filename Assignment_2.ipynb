{
 "cells": [
  {
   "cell_type": "code",
   "execution_count": 1,
   "id": "f5e3d9dc-f249-4e5a-83de-b31b7677cd39",
   "metadata": {},
   "outputs": [],
   "source": [
    "#Q1. How do you comment code in Python? What are the different types of comments?"
   ]
  },
  {
   "cell_type": "markdown",
   "id": "c6def2c3-fa8c-4f1e-9472-d8d421e23c80",
   "metadata": {},
   "source": [
    "Answer:\n",
    "We can comment code in python using # or writing it between triple quotes.\n",
    "\n",
    "Single line comment = #\n",
    "\n",
    "Multi-line comment = ''' ''', \"\"\" \"\"\"."
   ]
  },
  {
   "cell_type": "code",
   "execution_count": 2,
   "id": "f0343211-2b0d-4eb7-afa1-51c7dd1e11bf",
   "metadata": {},
   "outputs": [],
   "source": [
    "# Q2. What are variables in Python? How do you declare and assign values to variables?\n",
    "\n",
    "# variable = a\n",
    "# value = 40\n",
    "\n",
    "a = 40"
   ]
  },
  {
   "cell_type": "markdown",
   "id": "ff26bd5e-40c4-4a47-b252-eb1c2e86176c",
   "metadata": {},
   "source": [
    "Variables are containers which contain a value of some data type.\n",
    "\n",
    "a has been assigned an interger value."
   ]
  },
  {
   "cell_type": "code",
   "execution_count": 3,
   "id": "e544f1ee-401c-4e05-8079-9dc427976756",
   "metadata": {},
   "outputs": [
    {
     "name": "stdout",
     "output_type": "stream",
     "text": [
      "40 <class 'int'>\n",
      "40 <class 'str'>\n"
     ]
    }
   ],
   "source": [
    "# Q3. How do you convert one data type to another in Python?\n",
    "\n",
    "a = 40\n",
    "print(a, type(a))\n",
    "a = str(a)\n",
    "print(a, type(a))"
   ]
  },
  {
   "cell_type": "markdown",
   "id": "933a445a-23e6-4d3b-b398-c8f6bc19ba2a",
   "metadata": {},
   "source": [
    "We convert one data type to another in python by type-casting.\n",
    "\n",
    "In the above code, variable a is of int type. It is converted into string type."
   ]
  },
  {
   "cell_type": "code",
   "execution_count": 4,
   "id": "27b66fe5-df16-40a9-b84a-ea6894e6d911",
   "metadata": {},
   "outputs": [],
   "source": [
    "# Q4. How do you write and execute a Python script from the command line?"
   ]
  },
  {
   "cell_type": "markdown",
   "id": "0baebdfd-86af-4264-9c57-df3c06580cf7",
   "metadata": {},
   "source": [
    "Open a command line. write the keyword python or python3 following filename.py\n",
    "\n",
    "eg: python assignment2.py"
   ]
  },
  {
   "cell_type": "code",
   "execution_count": 5,
   "id": "f96cc1be-9859-4296-8492-00c19121db40",
   "metadata": {},
   "outputs": [
    {
     "name": "stdout",
     "output_type": "stream",
     "text": [
      "[2, 3]\n"
     ]
    }
   ],
   "source": [
    "# Q5. Given a list my_list = [1, 2, 3, 4, 5], write the code to slice the list and obtain the sub-list [2, 3].\n",
    "\n",
    "my_list = [1, 2, 3, 4, 5]\n",
    "print(my_list[1:3])"
   ]
  },
  {
   "cell_type": "code",
   "execution_count": 6,
   "id": "01495af6-c219-43ce-8959-59ee3e19f82d",
   "metadata": {},
   "outputs": [
    {
     "name": "stdout",
     "output_type": "stream",
     "text": [
      "(4+5j)\n",
      "<class 'complex'>\n",
      "4.0\n",
      "5.0\n"
     ]
    }
   ],
   "source": [
    "# Q6. What is a complex number in mathematics, and how is it represented in Python?\n",
    "\n",
    "comp1 = 4 + 5j\n",
    "print(comp1)\n",
    "print(type(comp1))\n",
    "print(comp1.real)\n",
    "print(comp1.imag)"
   ]
  },
  {
   "cell_type": "markdown",
   "id": "cd6b3de3-1587-4cc8-81a7-d12d9840d3fb",
   "metadata": {},
   "source": [
    "In mathematics, Complex number are written as 4+ 2i. In python i is replaces by j. Complex numbers in python can be only created with the character 'j'."
   ]
  },
  {
   "cell_type": "code",
   "execution_count": 7,
   "id": "c8ecc989-275d-4004-a5a8-30fcd167cca8",
   "metadata": {},
   "outputs": [
    {
     "name": "stdout",
     "output_type": "stream",
     "text": [
      "Age =  25\n"
     ]
    }
   ],
   "source": [
    "# Q7. What is the correct way to declare a variable named age and assign the value 25 to it?\n",
    "age = 25\n",
    "print('Age = ',age)"
   ]
  },
  {
   "cell_type": "markdown",
   "id": "efb30d07-7912-4e8e-84a3-941dd56906a7",
   "metadata": {},
   "source": [
    "Variable can start with a character or '_' only.\n",
    "\n",
    "4age, age@4, age! etc. are invalid.\n",
    "\n",
    "age_4, _age, age12 etc. are vald."
   ]
  },
  {
   "cell_type": "code",
   "execution_count": 8,
   "id": "98b08039-edcc-4ff2-a7f2-ec755312fcc3",
   "metadata": {},
   "outputs": [
    {
     "name": "stdout",
     "output_type": "stream",
     "text": [
      "9.99 <class 'float'>\n"
     ]
    }
   ],
   "source": [
    "# Q8. Declare a variable named price and assign the value 9.99 to it. What data type does this variable belong to?\n",
    "\n",
    "price = 9.99\n",
    "print(price, type(price))"
   ]
  },
  {
   "cell_type": "markdown",
   "id": "d7a21ffb-f4ef-40a7-be1a-7446a811998e",
   "metadata": {},
   "source": [
    "price is float value because it contains a decimal. "
   ]
  },
  {
   "cell_type": "code",
   "execution_count": 9,
   "id": "a1970651-e64c-4769-9cbe-cff6bc2d1997",
   "metadata": {},
   "outputs": [
    {
     "name": "stdout",
     "output_type": "stream",
     "text": [
      "Sheetal Borkar\n"
     ]
    }
   ],
   "source": [
    "# Q9. Create a variable named name and assign your full name to it as a string. How would you print the value of this variable?\n",
    "\n",
    "name = 'Sheetal Borkar'\n",
    "print(name)"
   ]
  },
  {
   "cell_type": "code",
   "execution_count": 10,
   "id": "45473940-5bd3-40ad-86aa-2ea33a9f7d48",
   "metadata": {},
   "outputs": [
    {
     "name": "stdout",
     "output_type": "stream",
     "text": [
      "World\n"
     ]
    }
   ],
   "source": [
    "# Q10. Given the string \"Hello, World!\", extract the substring \"World\".\n",
    "\n",
    "str1 = \"Hello, World!\"\n",
    "print(str1[7:12])"
   ]
  },
  {
   "cell_type": "code",
   "execution_count": 11,
   "id": "7abc0aa8-820b-4119-aeab-44abbbb7e3c1",
   "metadata": {},
   "outputs": [
    {
     "name": "stdout",
     "output_type": "stream",
     "text": [
      "True <class 'bool'>\n"
     ]
    }
   ],
   "source": [
    "# Q11. Create a variable named \"is_student\" and assign it a boolean value indicating whether you are currently a student or not.\n",
    "is_student = True\n",
    "print(is_student, type(is_student))"
   ]
  }
 ],
 "metadata": {
  "kernelspec": {
   "display_name": "Python 3 (ipykernel)",
   "language": "python",
   "name": "python3"
  },
  "language_info": {
   "codemirror_mode": {
    "name": "ipython",
    "version": 3
   },
   "file_extension": ".py",
   "mimetype": "text/x-python",
   "name": "python",
   "nbconvert_exporter": "python",
   "pygments_lexer": "ipython3",
   "version": "3.10.8"
  }
 },
 "nbformat": 4,
 "nbformat_minor": 5
}
